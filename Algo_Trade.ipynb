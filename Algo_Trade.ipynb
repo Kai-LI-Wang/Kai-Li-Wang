{
 "cells": [
  {
   "cell_type": "code",
   "execution_count": 1,
   "metadata": {},
   "outputs": [],
   "source": [
    "import pandas as pd \n",
    "import numpy as np \n",
    "import matplotlib.pyplot as plt \n",
    "from statsmodels.tsa.stattools import adfuller\n",
    "from decimal import Decimal \n",
    "from sklearn.model_selection import train_test_split\n",
    "from sklearn.tree import DecisionTreeClassifier\n",
    "from sklearn.ensemble import AdaBoostClassifier\n",
    "from sklearn.metrics import confusion_matrix, accuracy_score\n",
    "import seaborn as sns\n",
    "import warnings\n",
    "import scipy.stats as scs\n",
    "warnings.filterwarnings(\"ignore\")"
   ]
  },
  {
   "cell_type": "code",
   "execution_count": 2,
   "metadata": {},
   "outputs": [
    {
     "data": {
      "text/html": [
       "<div>\n",
       "<style scoped>\n",
       "    .dataframe tbody tr th:only-of-type {\n",
       "        vertical-align: middle;\n",
       "    }\n",
       "\n",
       "    .dataframe tbody tr th {\n",
       "        vertical-align: top;\n",
       "    }\n",
       "\n",
       "    .dataframe thead th {\n",
       "        text-align: right;\n",
       "    }\n",
       "</style>\n",
       "<table border=\"1\" class=\"dataframe\">\n",
       "  <thead>\n",
       "    <tr style=\"text-align: right;\">\n",
       "      <th></th>\n",
       "      <th>High</th>\n",
       "      <th>Low</th>\n",
       "      <th>Open</th>\n",
       "      <th>Close</th>\n",
       "      <th>Volume</th>\n",
       "      <th>Adj Close</th>\n",
       "      <th>Return</th>\n",
       "    </tr>\n",
       "    <tr>\n",
       "      <th>Date</th>\n",
       "      <th></th>\n",
       "      <th></th>\n",
       "      <th></th>\n",
       "      <th></th>\n",
       "      <th></th>\n",
       "      <th></th>\n",
       "      <th></th>\n",
       "    </tr>\n",
       "  </thead>\n",
       "  <tbody>\n",
       "    <tr>\n",
       "      <th>2013-01-01</th>\n",
       "      <td>1.322401</td>\n",
       "      <td>1.319592</td>\n",
       "      <td>1.320132</td>\n",
       "      <td>1.320132</td>\n",
       "      <td>0.0</td>\n",
       "      <td>1.320132</td>\n",
       "      <td>-0.001995</td>\n",
       "    </tr>\n",
       "    <tr>\n",
       "      <th>2013-01-02</th>\n",
       "      <td>1.329805</td>\n",
       "      <td>1.319435</td>\n",
       "      <td>1.319784</td>\n",
       "      <td>1.319784</td>\n",
       "      <td>0.0</td>\n",
       "      <td>1.319784</td>\n",
       "      <td>-0.000264</td>\n",
       "    </tr>\n",
       "    <tr>\n",
       "      <th>2013-01-03</th>\n",
       "      <td>1.318913</td>\n",
       "      <td>1.308900</td>\n",
       "      <td>1.318392</td>\n",
       "      <td>1.318218</td>\n",
       "      <td>0.0</td>\n",
       "      <td>1.318218</td>\n",
       "      <td>-0.001187</td>\n",
       "    </tr>\n",
       "    <tr>\n",
       "      <th>2013-01-04</th>\n",
       "      <td>1.306380</td>\n",
       "      <td>1.300052</td>\n",
       "      <td>1.303101</td>\n",
       "      <td>1.303271</td>\n",
       "      <td>0.0</td>\n",
       "      <td>1.303271</td>\n",
       "      <td>-0.011403</td>\n",
       "    </tr>\n",
       "    <tr>\n",
       "      <th>2013-01-07</th>\n",
       "      <td>1.309929</td>\n",
       "      <td>1.302060</td>\n",
       "      <td>1.306848</td>\n",
       "      <td>1.306745</td>\n",
       "      <td>0.0</td>\n",
       "      <td>1.306745</td>\n",
       "      <td>0.002662</td>\n",
       "    </tr>\n",
       "  </tbody>\n",
       "</table>\n",
       "</div>"
      ],
      "text/plain": [
       "                High       Low      Open     Close  Volume  Adj Close  \\\n",
       "Date                                                                    \n",
       "2013-01-01  1.322401  1.319592  1.320132  1.320132     0.0   1.320132   \n",
       "2013-01-02  1.329805  1.319435  1.319784  1.319784     0.0   1.319784   \n",
       "2013-01-03  1.318913  1.308900  1.318392  1.318218     0.0   1.318218   \n",
       "2013-01-04  1.306380  1.300052  1.303101  1.303271     0.0   1.303271   \n",
       "2013-01-07  1.309929  1.302060  1.306848  1.306745     0.0   1.306745   \n",
       "\n",
       "              Return  \n",
       "Date                  \n",
       "2013-01-01 -0.001995  \n",
       "2013-01-02 -0.000264  \n",
       "2013-01-03 -0.001187  \n",
       "2013-01-04 -0.011403  \n",
       "2013-01-07  0.002662  "
      ]
     },
     "execution_count": 2,
     "metadata": {},
     "output_type": "execute_result"
    }
   ],
   "source": [
    "df = pd.read_csv(\"~/Desktop/PyWork/Data/EURUSD.csv\")\n",
    "data = df.copy()\n",
    "data[\"Return\"] =  np.log(data[\"Adj Close\"]).diff()\n",
    "data.dropna(axis = 0, inplace  = True)\n",
    "data.set_index(\"Date\",inplace = True)\n",
    "data.head()"
   ]
  },
  {
   "cell_type": "markdown",
   "metadata": {},
   "source": [
    "### Check Autocorrelation \n",
    "下圖顯示lag1~lag5的autocorrelation，結果顯示autocorrelation介於0.25與-0.25之間，也就是每日報酬與自身的lag相關性不大，不會影響模型建立"
   ]
  },
  {
   "cell_type": "code",
   "execution_count": 3,
   "metadata": {},
   "outputs": [
    {
     "data": {
      "image/png": "[encoded data removed]",
      "text/plain": [
       "<Figure size 648x504 with 1 Axes>"
      ]
     },
     "metadata": {
      "needs_background": "light"
     },
     "output_type": "display_data"
    }
   ],
   "source": [
    "def acutcor(lag):\n",
    "    AutoCorr = []\n",
    "    for i in range(1, lag + 1):\n",
    "        temp = data[\"Return\"].autocorr(lag = i)        \n",
    "        AutoCorr.append(temp)\n",
    "    AutoCorr = pd.Series(AutoCorr)\n",
    "    x = np.arange(1, lag + 1)\n",
    "    plt.figure(figsize = (9,7))\n",
    "    plt.scatter(x,AutoCorr)\n",
    "    plt.xlabel(\"Lag\")\n",
    "    plt.xticks(x)\n",
    "    plt.ylabel(\"AutoCorr\")\n",
    "    plt.axhline(1.0, color = \"r\")\n",
    "    plt.axhline(0.0, color = \"b\")\n",
    "    plt.axhline(-1.0, color = \"r\")\n",
    "    plt.show()\n",
    "\n",
    "lag = 5\n",
    "acutcor(lag)"
   ]
  },
  {
   "cell_type": "markdown",
   "metadata": {},
   "source": [
    "### Check Stationarity of return \n",
    "確認每日報酬是否為stationary，如果time series data並非stationary，會影時間序列預測準確度，下列顯示P-value小於0.5，所以拒絕null hypothesis(資料非stationary)"
   ]
  },
  {
   "cell_type": "code",
   "execution_count": 4,
   "metadata": {},
   "outputs": [
    {
     "name": "stdout",
     "output_type": "stream",
     "text": [
      "Time series data is stationary.\n"
     ]
    }
   ],
   "source": [
    "def Stationarity(data):\n",
    "    Pvalue = adfuller(data,autolag='AIC')[1]\n",
    "    #print(\"Pvalue from ADF test =\",Decimal(Pvalue).quantize(Decimal('.000000001'), rounding=\"ROUND_DOWN\"))\n",
    "    if Pvalue < 0.5:\n",
    "        print(\"Time series data is stationary.\")\n",
    "    else:\n",
    "        print(\"Time series data is not stationary.\")\n",
    "    \n",
    "Stationarity(data[\"Return\"])"
   ]
  },
  {
   "cell_type": "markdown",
   "metadata": {},
   "source": [
    "### Create features of lag of return \n",
    "用過去五天的報酬作為模型訓練參數，並將positive return 設為1，negative return設為-1，做為訓練與預測目標"
   ]
  },
  {
   "cell_type": "code",
   "execution_count": 5,
   "metadata": {},
   "outputs": [
    {
     "data": {
      "text/html": [
       "<div>\n",
       "<style scoped>\n",
       "    .dataframe tbody tr th:only-of-type {\n",
       "        vertical-align: middle;\n",
       "    }\n",
       "\n",
       "    .dataframe tbody tr th {\n",
       "        vertical-align: top;\n",
       "    }\n",
       "\n",
       "    .dataframe thead th {\n",
       "        text-align: right;\n",
       "    }\n",
       "</style>\n",
       "<table border=\"1\" class=\"dataframe\">\n",
       "  <thead>\n",
       "    <tr style=\"text-align: right;\">\n",
       "      <th></th>\n",
       "      <th>Return</th>\n",
       "      <th>Ret_lag1</th>\n",
       "      <th>Ret_lag2</th>\n",
       "      <th>Ret_lag3</th>\n",
       "      <th>Ret_lag4</th>\n",
       "      <th>Ret_lag5</th>\n",
       "      <th>Direction</th>\n",
       "    </tr>\n",
       "    <tr>\n",
       "      <th>Date</th>\n",
       "      <th></th>\n",
       "      <th></th>\n",
       "      <th></th>\n",
       "      <th></th>\n",
       "      <th></th>\n",
       "      <th></th>\n",
       "      <th></th>\n",
       "    </tr>\n",
       "  </thead>\n",
       "  <tbody>\n",
       "    <tr>\n",
       "      <th>2013-01-08</th>\n",
       "      <td>0.004400</td>\n",
       "      <td>0.002662</td>\n",
       "      <td>-0.011403</td>\n",
       "      <td>-0.001187</td>\n",
       "      <td>-0.000264</td>\n",
       "      <td>-0.001995</td>\n",
       "      <td>1</td>\n",
       "    </tr>\n",
       "    <tr>\n",
       "      <th>2013-01-09</th>\n",
       "      <td>-0.003263</td>\n",
       "      <td>0.004400</td>\n",
       "      <td>0.002662</td>\n",
       "      <td>-0.011403</td>\n",
       "      <td>-0.001187</td>\n",
       "      <td>-0.000264</td>\n",
       "      <td>-1</td>\n",
       "    </tr>\n",
       "    <tr>\n",
       "      <th>2013-01-10</th>\n",
       "      <td>-0.002104</td>\n",
       "      <td>-0.003263</td>\n",
       "      <td>0.004400</td>\n",
       "      <td>0.002662</td>\n",
       "      <td>-0.011403</td>\n",
       "      <td>-0.001187</td>\n",
       "      <td>-1</td>\n",
       "    </tr>\n",
       "    <tr>\n",
       "      <th>2013-01-11</th>\n",
       "      <td>0.016586</td>\n",
       "      <td>-0.002104</td>\n",
       "      <td>-0.003263</td>\n",
       "      <td>0.004400</td>\n",
       "      <td>0.002662</td>\n",
       "      <td>-0.011403</td>\n",
       "      <td>1</td>\n",
       "    </tr>\n",
       "    <tr>\n",
       "      <th>2013-01-14</th>\n",
       "      <td>0.006672</td>\n",
       "      <td>0.016586</td>\n",
       "      <td>-0.002104</td>\n",
       "      <td>-0.003263</td>\n",
       "      <td>0.004400</td>\n",
       "      <td>0.002662</td>\n",
       "      <td>1</td>\n",
       "    </tr>\n",
       "  </tbody>\n",
       "</table>\n",
       "</div>"
      ],
      "text/plain": [
       "              Return  Ret_lag1  Ret_lag2  Ret_lag3  Ret_lag4  Ret_lag5  \\\n",
       "Date                                                                     \n",
       "2013-01-08  0.004400  0.002662 -0.011403 -0.001187 -0.000264 -0.001995   \n",
       "2013-01-09 -0.003263  0.004400  0.002662 -0.011403 -0.001187 -0.000264   \n",
       "2013-01-10 -0.002104 -0.003263  0.004400  0.002662 -0.011403 -0.001187   \n",
       "2013-01-11  0.016586 -0.002104 -0.003263  0.004400  0.002662 -0.011403   \n",
       "2013-01-14  0.006672  0.016586 -0.002104 -0.003263  0.004400  0.002662   \n",
       "\n",
       "            Direction  \n",
       "Date                   \n",
       "2013-01-08          1  \n",
       "2013-01-09         -1  \n",
       "2013-01-10         -1  \n",
       "2013-01-11          1  \n",
       "2013-01-14          1  "
      ]
     },
     "execution_count": 5,
     "metadata": {},
     "output_type": "execute_result"
    }
   ],
   "source": [
    "for i in range(1, lag+1):\n",
    "    data[\"Ret_lag{}\".format(i)] = data[\"Return\"].shift(i)\n",
    "data_lag = data.iloc[:,-6:]\n",
    "data_lag.dropna(inplace = True)\n",
    "data_lag[\"Direction\"] = data_lag[\"Return\"].apply(lambda x: 1 if x>0 else -1)\n",
    "\n",
    "data_lag.head()"
   ]
  },
  {
   "cell_type": "markdown",
   "metadata": {},
   "source": [
    "### Split dataset into train and test \n",
    "將歷史資料拆分成訓練與測試"
   ]
  },
  {
   "cell_type": "code",
   "execution_count": 6,
   "metadata": {},
   "outputs": [],
   "source": [
    "train, test = train_test_split(data_lag, test_size = 0.3, train_size = 0.7, shuffle = False)\n",
    "train_feature = train.iloc[:,1:-1]\n",
    "train_label = train.iloc[:,-1]\n",
    "test_feature = test.iloc[:,1:-1]\n",
    "test_label = test.iloc[:,:-1]"
   ]
  },
  {
   "cell_type": "markdown",
   "metadata": {},
   "source": [
    "### Build Adboost Classifier\n",
    "使用Adboost分類器強化決策數"
   ]
  },
  {
   "cell_type": "code",
   "execution_count": 7,
   "metadata": {},
   "outputs": [],
   "source": [
    "def ADBoost(train_feature,train_label, test_feature, test_label, test):\n",
    "    n_estimators = 15\n",
    "    random_state = 100 \n",
    "    max_depth = 12 \n",
    "    min_sample_leaf = 15 \n",
    "    subsample = 0.33\n",
    "    DTree = DecisionTreeClassifier(random_state=random_state,\n",
    "                                    max_depth=max_depth, \n",
    "                                    min_samples_leaf=min_sample_leaf)  \n",
    "    model = AdaBoostClassifier(base_estimator=DTree,\n",
    "                                   n_estimators=n_estimators,\n",
    "                                   random_state=random_state)\n",
    "    model.fit(train_feature, train_label)\n",
    "    try:\n",
    "        test[\"Direction_Predict\"] = model.predict(test_feature)\n",
    "        train[\"Direction_Predict\"] = model.predict(train_feature)\n",
    "    except:\n",
    "        print(\"Error in test[Position] = model.predict(test_feature) !!!\")\n",
    "#     result = accuracy_score(test_label, model.predict(test_feature))\n",
    "#     print(\"Accuracy = \", result)\n",
    "    return test, train \n",
    "\n",
    "\n",
    "\n",
    "test, train = ADBoost(train_feature,train_label, test_feature, test_label, test)\n"
   ]
  },
  {
   "cell_type": "markdown",
   "metadata": {},
   "source": [
    "### Confusion Matrix \n",
    "運用sklearn內建method來計算模型預測準確度"
   ]
  },
  {
   "cell_type": "code",
   "execution_count": 8,
   "metadata": {},
   "outputs": [
    {
     "name": "stdout",
     "output_type": "stream",
     "text": [
      "The prediction accuracy of Adboost Classifier = 51.18%\n"
     ]
    }
   ],
   "source": [
    "I = np.array([1,1]).reshape(2,1)\n",
    "ConMatrix = confusion_matrix(test[\"Direction\"],test[\"Direction_Predict\"])\n",
    "Hit_ratio = sum(ConMatrix.diagonal())/np.dot(np.dot(ConMatrix,I).T,I) # 將矩陣斜對角相加除上矩陣相加總數\n",
    "print(\"The prediction accuracy of Adboost Classifier = {}%\".format(round(Hit_ratio[0][0]*100,2)))"
   ]
  },
  {
   "cell_type": "code",
   "execution_count": 9,
   "metadata": {},
   "outputs": [
    {
     "data": {
      "text/html": [
       "<div>\n",
       "<style scoped>\n",
       "    .dataframe tbody tr th:only-of-type {\n",
       "        vertical-align: middle;\n",
       "    }\n",
       "\n",
       "    .dataframe tbody tr th {\n",
       "        vertical-align: top;\n",
       "    }\n",
       "\n",
       "    .dataframe thead th {\n",
       "        text-align: right;\n",
       "    }\n",
       "</style>\n",
       "<table border=\"1\" class=\"dataframe\">\n",
       "  <thead>\n",
       "    <tr style=\"text-align: right;\">\n",
       "      <th></th>\n",
       "      <th>Return</th>\n",
       "      <th>Ret_lag1</th>\n",
       "      <th>Ret_lag2</th>\n",
       "      <th>Ret_lag3</th>\n",
       "      <th>Ret_lag4</th>\n",
       "      <th>Ret_lag5</th>\n",
       "      <th>Direction</th>\n",
       "      <th>Direction_Predict</th>\n",
       "    </tr>\n",
       "    <tr>\n",
       "      <th>Date</th>\n",
       "      <th></th>\n",
       "      <th></th>\n",
       "      <th></th>\n",
       "      <th></th>\n",
       "      <th></th>\n",
       "      <th></th>\n",
       "      <th></th>\n",
       "      <th></th>\n",
       "    </tr>\n",
       "  </thead>\n",
       "  <tbody>\n",
       "    <tr>\n",
       "      <th>2013-01-08</th>\n",
       "      <td>0.004400</td>\n",
       "      <td>0.002662</td>\n",
       "      <td>-0.011403</td>\n",
       "      <td>-0.001187</td>\n",
       "      <td>-0.000264</td>\n",
       "      <td>-0.001995</td>\n",
       "      <td>1</td>\n",
       "      <td>1</td>\n",
       "    </tr>\n",
       "    <tr>\n",
       "      <th>2013-01-09</th>\n",
       "      <td>-0.003263</td>\n",
       "      <td>0.004400</td>\n",
       "      <td>0.002662</td>\n",
       "      <td>-0.011403</td>\n",
       "      <td>-0.001187</td>\n",
       "      <td>-0.000264</td>\n",
       "      <td>-1</td>\n",
       "      <td>-1</td>\n",
       "    </tr>\n",
       "    <tr>\n",
       "      <th>2013-01-10</th>\n",
       "      <td>-0.002104</td>\n",
       "      <td>-0.003263</td>\n",
       "      <td>0.004400</td>\n",
       "      <td>0.002662</td>\n",
       "      <td>-0.011403</td>\n",
       "      <td>-0.001187</td>\n",
       "      <td>-1</td>\n",
       "      <td>-1</td>\n",
       "    </tr>\n",
       "    <tr>\n",
       "      <th>2013-01-11</th>\n",
       "      <td>0.016586</td>\n",
       "      <td>-0.002104</td>\n",
       "      <td>-0.003263</td>\n",
       "      <td>0.004400</td>\n",
       "      <td>0.002662</td>\n",
       "      <td>-0.011403</td>\n",
       "      <td>1</td>\n",
       "      <td>1</td>\n",
       "    </tr>\n",
       "    <tr>\n",
       "      <th>2013-01-14</th>\n",
       "      <td>0.006672</td>\n",
       "      <td>0.016586</td>\n",
       "      <td>-0.002104</td>\n",
       "      <td>-0.003263</td>\n",
       "      <td>0.004400</td>\n",
       "      <td>0.002662</td>\n",
       "      <td>1</td>\n",
       "      <td>1</td>\n",
       "    </tr>\n",
       "  </tbody>\n",
       "</table>\n",
       "</div>"
      ],
      "text/plain": [
       "              Return  Ret_lag1  Ret_lag2  Ret_lag3  Ret_lag4  Ret_lag5  \\\n",
       "Date                                                                     \n",
       "2013-01-08  0.004400  0.002662 -0.011403 -0.001187 -0.000264 -0.001995   \n",
       "2013-01-09 -0.003263  0.004400  0.002662 -0.011403 -0.001187 -0.000264   \n",
       "2013-01-10 -0.002104 -0.003263  0.004400  0.002662 -0.011403 -0.001187   \n",
       "2013-01-11  0.016586 -0.002104 -0.003263  0.004400  0.002662 -0.011403   \n",
       "2013-01-14  0.006672  0.016586 -0.002104 -0.003263  0.004400  0.002662   \n",
       "\n",
       "            Direction  Direction_Predict  \n",
       "Date                                      \n",
       "2013-01-08          1                  1  \n",
       "2013-01-09         -1                 -1  \n",
       "2013-01-10         -1                 -1  \n",
       "2013-01-11          1                  1  \n",
       "2013-01-14          1                  1  "
      ]
     },
     "execution_count": 9,
     "metadata": {},
     "output_type": "execute_result"
    }
   ],
   "source": [
    "train.head()"
   ]
  },
  {
   "cell_type": "code",
   "execution_count": 10,
   "metadata": {},
   "outputs": [
    {
     "data": {
      "text/html": [
       "<div>\n",
       "<style scoped>\n",
       "    .dataframe tbody tr th:only-of-type {\n",
       "        vertical-align: middle;\n",
       "    }\n",
       "\n",
       "    .dataframe tbody tr th {\n",
       "        vertical-align: top;\n",
       "    }\n",
       "\n",
       "    .dataframe thead th {\n",
       "        text-align: right;\n",
       "    }\n",
       "</style>\n",
       "<table border=\"1\" class=\"dataframe\">\n",
       "  <thead>\n",
       "    <tr style=\"text-align: right;\">\n",
       "      <th></th>\n",
       "      <th>Return</th>\n",
       "      <th>Ret_lag1</th>\n",
       "      <th>Ret_lag2</th>\n",
       "      <th>Ret_lag3</th>\n",
       "      <th>Ret_lag4</th>\n",
       "      <th>Ret_lag5</th>\n",
       "      <th>Direction</th>\n",
       "      <th>Direction_Predict</th>\n",
       "    </tr>\n",
       "    <tr>\n",
       "      <th>Date</th>\n",
       "      <th></th>\n",
       "      <th></th>\n",
       "      <th></th>\n",
       "      <th></th>\n",
       "      <th></th>\n",
       "      <th></th>\n",
       "      <th></th>\n",
       "      <th></th>\n",
       "    </tr>\n",
       "  </thead>\n",
       "  <tbody>\n",
       "    <tr>\n",
       "      <th>2018-09-06</th>\n",
       "      <td>-0.001302</td>\n",
       "      <td>0.004192</td>\n",
       "      <td>-0.002494</td>\n",
       "      <td>0.001242</td>\n",
       "      <td>-0.005467</td>\n",
       "      <td>-0.003857</td>\n",
       "      <td>-1</td>\n",
       "      <td>-1</td>\n",
       "    </tr>\n",
       "    <tr>\n",
       "      <th>2018-09-09</th>\n",
       "      <td>-0.005088</td>\n",
       "      <td>-0.001302</td>\n",
       "      <td>0.004192</td>\n",
       "      <td>-0.002494</td>\n",
       "      <td>0.001242</td>\n",
       "      <td>-0.005467</td>\n",
       "      <td>-1</td>\n",
       "      <td>-1</td>\n",
       "    </tr>\n",
       "    <tr>\n",
       "      <th>2018-09-10</th>\n",
       "      <td>0.003010</td>\n",
       "      <td>-0.005088</td>\n",
       "      <td>-0.001302</td>\n",
       "      <td>0.004192</td>\n",
       "      <td>-0.002494</td>\n",
       "      <td>0.001242</td>\n",
       "      <td>1</td>\n",
       "      <td>1</td>\n",
       "    </tr>\n",
       "    <tr>\n",
       "      <th>2018-09-11</th>\n",
       "      <td>0.000012</td>\n",
       "      <td>0.003010</td>\n",
       "      <td>-0.005088</td>\n",
       "      <td>-0.001302</td>\n",
       "      <td>0.004192</td>\n",
       "      <td>-0.002494</td>\n",
       "      <td>1</td>\n",
       "      <td>-1</td>\n",
       "    </tr>\n",
       "    <tr>\n",
       "      <th>2018-09-12</th>\n",
       "      <td>0.002857</td>\n",
       "      <td>0.000012</td>\n",
       "      <td>0.003010</td>\n",
       "      <td>-0.005088</td>\n",
       "      <td>-0.001302</td>\n",
       "      <td>0.004192</td>\n",
       "      <td>1</td>\n",
       "      <td>1</td>\n",
       "    </tr>\n",
       "  </tbody>\n",
       "</table>\n",
       "</div>"
      ],
      "text/plain": [
       "              Return  Ret_lag1  Ret_lag2  Ret_lag3  Ret_lag4  Ret_lag5  \\\n",
       "Date                                                                     \n",
       "2018-09-06 -0.001302  0.004192 -0.002494  0.001242 -0.005467 -0.003857   \n",
       "2018-09-09 -0.005088 -0.001302  0.004192 -0.002494  0.001242 -0.005467   \n",
       "2018-09-10  0.003010 -0.005088 -0.001302  0.004192 -0.002494  0.001242   \n",
       "2018-09-11  0.000012  0.003010 -0.005088 -0.001302  0.004192 -0.002494   \n",
       "2018-09-12  0.002857  0.000012  0.003010 -0.005088 -0.001302  0.004192   \n",
       "\n",
       "            Direction  Direction_Predict  \n",
       "Date                                      \n",
       "2018-09-06         -1                 -1  \n",
       "2018-09-09         -1                 -1  \n",
       "2018-09-10          1                  1  \n",
       "2018-09-11          1                 -1  \n",
       "2018-09-12          1                  1  "
      ]
     },
     "execution_count": 10,
     "metadata": {},
     "output_type": "execute_result"
    }
   ],
   "source": [
    "test.head()"
   ]
  },
  {
   "cell_type": "markdown",
   "metadata": {},
   "source": [
    "### Calculated Position\n",
    "新增Accuracy column，當預測方向與實際方向同時，Accuracy會大於0，反之，當預測方向與實際方向不同時，Accuracy會小於0"
   ]
  },
  {
   "cell_type": "code",
   "execution_count": 68,
   "metadata": {},
   "outputs": [
    {
     "name": "stdout",
     "output_type": "stream",
     "text": [
      "Return = 0.9623953306222571\n",
      "Loss = 0.9553103157091294\n"
     ]
    }
   ],
   "source": [
    "test[\"Accuracy\"] = test[\"Direction\"]*test[\"Direction_Predict\"]\n",
    "test[\"Position_Return\"] = test[\"Direction_Predict\"]*test[\"Return\"]\n",
    "# test[\"Strategy_Return\"] = np.where(test[\"Direction_Predict\"].diff()!=0, test[\"Position_Return\"], )\n",
    "\n",
    "ret = sum(abs(test[\"Return\"].loc[test[\"Accuracy\"] > 0]*test[\"Direction_Predict\"].loc[test[\"Accuracy\"]>0]))\n",
    "loss = sum(abs(test[\"Return\"].loc[test[\"Accuracy\"] < 0]*test[\"Direction_Predict\"].loc[test[\"Accuracy\"]<0]))\n",
    "\n",
    "print(\"Return = {}\\nLoss = {}\".format(ret, loss))"
   ]
  },
  {
   "cell_type": "code",
   "execution_count": 69,
   "metadata": {},
   "outputs": [
    {
     "data": {
      "text/plain": [
       "299801.14474073675"
      ]
     },
     "execution_count": 69,
     "metadata": {},
     "output_type": "execute_result"
    }
   ],
   "source": [
    "lotsize = 100000 #USD\n",
    "Exp_Train_Return = sum(train[\"Direction\"]*train[\"Return\"])*Hit_ratio[0][0]*lotsize\n",
    "Exp_Train_Return"
   ]
  },
  {
   "cell_type": "code",
   "execution_count": 95,
   "metadata": {},
   "outputs": [
    {
     "name": "stdout",
     "output_type": "stream",
     "text": [
      "Expected return with train data = 2626.4138 (0.0263%)\n",
      "Expected Return with test data = 708.5015 (0.0071%)\n"
     ]
    }
   ],
   "source": [
    "Result = {}\n",
    "Exp_Test_Return_ratio = (ret*Hit_ratio[0][0] - loss*(1-Hit_ratio[0][0]))\n",
    "Exp_Test_Return = Exp_Test_Return_ratio*lotsize\n",
    "Test_Return = ret - loss\n",
    "Result[\"Predicted Return\"] = round(Test_Return*lotsize)\n",
    "Result[\"Expected Return\"] = round(Exp_Test_Return)\n",
    "Result[\"Expected Loss\"] = round(loss*(1-Hit_ratio[0][0])*lotsize)\n",
    "print(\"Expected return with train data = {} ({}%)\\nExpected Return with test data = {} ({}%)\".\\\n",
    "                                                                                format(round(Exp_Test_Return,4),\\\n",
    "                                                                                round(Exp_Test_Return_ratio,4),\\\n",
    "                                                                                round(Test_Return*lotsize,4),\\\n",
    "                                                                                round(Test_Return, 4)))\n"
   ]
  },
  {
   "cell_type": "code",
   "execution_count": 96,
   "metadata": {},
   "outputs": [
    {
     "data": {
      "text/html": [
       "<div>\n",
       "<style scoped>\n",
       "    .dataframe tbody tr th:only-of-type {\n",
       "        vertical-align: middle;\n",
       "    }\n",
       "\n",
       "    .dataframe tbody tr th {\n",
       "        vertical-align: top;\n",
       "    }\n",
       "\n",
       "    .dataframe thead th {\n",
       "        text-align: right;\n",
       "    }\n",
       "</style>\n",
       "<table border=\"1\" class=\"dataframe\">\n",
       "  <thead>\n",
       "    <tr style=\"text-align: right;\">\n",
       "      <th></th>\n",
       "      <th>Return</th>\n",
       "      <th>Ret_lag1</th>\n",
       "      <th>Ret_lag2</th>\n",
       "      <th>Ret_lag3</th>\n",
       "      <th>Ret_lag4</th>\n",
       "      <th>Ret_lag5</th>\n",
       "      <th>Direction</th>\n",
       "      <th>Direction_Predict</th>\n",
       "      <th>Accuracy</th>\n",
       "      <th>Position_Return</th>\n",
       "      <th>Cum_Return</th>\n",
       "      <th>Cum_Max</th>\n",
       "      <th>DrawnDown</th>\n",
       "    </tr>\n",
       "    <tr>\n",
       "      <th>Date</th>\n",
       "      <th></th>\n",
       "      <th></th>\n",
       "      <th></th>\n",
       "      <th></th>\n",
       "      <th></th>\n",
       "      <th></th>\n",
       "      <th></th>\n",
       "      <th></th>\n",
       "      <th></th>\n",
       "      <th></th>\n",
       "      <th></th>\n",
       "      <th></th>\n",
       "      <th></th>\n",
       "    </tr>\n",
       "  </thead>\n",
       "  <tbody>\n",
       "    <tr>\n",
       "      <th>2018-09-06</th>\n",
       "      <td>-0.001302</td>\n",
       "      <td>0.004192</td>\n",
       "      <td>-0.002494</td>\n",
       "      <td>0.001242</td>\n",
       "      <td>-0.005467</td>\n",
       "      <td>-0.003857</td>\n",
       "      <td>-1</td>\n",
       "      <td>-1</td>\n",
       "      <td>1</td>\n",
       "      <td>0.001302</td>\n",
       "      <td>0.001302</td>\n",
       "      <td>0.001302</td>\n",
       "      <td>0.000000</td>\n",
       "    </tr>\n",
       "    <tr>\n",
       "      <th>2018-09-09</th>\n",
       "      <td>-0.005088</td>\n",
       "      <td>-0.001302</td>\n",
       "      <td>0.004192</td>\n",
       "      <td>-0.002494</td>\n",
       "      <td>0.001242</td>\n",
       "      <td>-0.005467</td>\n",
       "      <td>-1</td>\n",
       "      <td>-1</td>\n",
       "      <td>1</td>\n",
       "      <td>0.005088</td>\n",
       "      <td>0.006391</td>\n",
       "      <td>0.006391</td>\n",
       "      <td>0.000000</td>\n",
       "    </tr>\n",
       "    <tr>\n",
       "      <th>2018-09-10</th>\n",
       "      <td>0.003010</td>\n",
       "      <td>-0.005088</td>\n",
       "      <td>-0.001302</td>\n",
       "      <td>0.004192</td>\n",
       "      <td>-0.002494</td>\n",
       "      <td>0.001242</td>\n",
       "      <td>1</td>\n",
       "      <td>1</td>\n",
       "      <td>1</td>\n",
       "      <td>0.003010</td>\n",
       "      <td>0.009401</td>\n",
       "      <td>0.009401</td>\n",
       "      <td>0.000000</td>\n",
       "    </tr>\n",
       "    <tr>\n",
       "      <th>2018-09-11</th>\n",
       "      <td>0.000012</td>\n",
       "      <td>0.003010</td>\n",
       "      <td>-0.005088</td>\n",
       "      <td>-0.001302</td>\n",
       "      <td>0.004192</td>\n",
       "      <td>-0.002494</td>\n",
       "      <td>1</td>\n",
       "      <td>-1</td>\n",
       "      <td>-1</td>\n",
       "      <td>-0.000012</td>\n",
       "      <td>0.009389</td>\n",
       "      <td>0.009401</td>\n",
       "      <td>0.000012</td>\n",
       "    </tr>\n",
       "    <tr>\n",
       "      <th>2018-09-12</th>\n",
       "      <td>0.002857</td>\n",
       "      <td>0.000012</td>\n",
       "      <td>0.003010</td>\n",
       "      <td>-0.005088</td>\n",
       "      <td>-0.001302</td>\n",
       "      <td>0.004192</td>\n",
       "      <td>1</td>\n",
       "      <td>1</td>\n",
       "      <td>1</td>\n",
       "      <td>0.002857</td>\n",
       "      <td>0.012246</td>\n",
       "      <td>0.012246</td>\n",
       "      <td>0.000000</td>\n",
       "    </tr>\n",
       "  </tbody>\n",
       "</table>\n",
       "</div>"
      ],
      "text/plain": [
       "              Return  Ret_lag1  Ret_lag2  Ret_lag3  Ret_lag4  Ret_lag5  \\\n",
       "Date                                                                     \n",
       "2018-09-06 -0.001302  0.004192 -0.002494  0.001242 -0.005467 -0.003857   \n",
       "2018-09-09 -0.005088 -0.001302  0.004192 -0.002494  0.001242 -0.005467   \n",
       "2018-09-10  0.003010 -0.005088 -0.001302  0.004192 -0.002494  0.001242   \n",
       "2018-09-11  0.000012  0.003010 -0.005088 -0.001302  0.004192 -0.002494   \n",
       "2018-09-12  0.002857  0.000012  0.003010 -0.005088 -0.001302  0.004192   \n",
       "\n",
       "            Direction  Direction_Predict  Accuracy  Position_Return  \\\n",
       "Date                                                                  \n",
       "2018-09-06         -1                 -1         1         0.001302   \n",
       "2018-09-09         -1                 -1         1         0.005088   \n",
       "2018-09-10          1                  1         1         0.003010   \n",
       "2018-09-11          1                 -1        -1        -0.000012   \n",
       "2018-09-12          1                  1         1         0.002857   \n",
       "\n",
       "            Cum_Return   Cum_Max  DrawnDown  \n",
       "Date                                         \n",
       "2018-09-06    0.001302  0.001302   0.000000  \n",
       "2018-09-09    0.006391  0.006391   0.000000  \n",
       "2018-09-10    0.009401  0.009401   0.000000  \n",
       "2018-09-11    0.009389  0.009401   0.000012  \n",
       "2018-09-12    0.012246  0.012246   0.000000  "
      ]
     },
     "execution_count": 96,
     "metadata": {},
     "output_type": "execute_result"
    }
   ],
   "source": [
    "test.head()"
   ]
  },
  {
   "cell_type": "markdown",
   "metadata": {},
   "source": [
    "### The biggest loss over during training period"
   ]
  },
  {
   "cell_type": "code",
   "execution_count": 97,
   "metadata": {},
   "outputs": [
    {
     "name": "stdout",
     "output_type": "stream",
     "text": [
      "過去633天最大損失 = USD$21696 (2020-11-02)\n"
     ]
    }
   ],
   "source": [
    "test[\"Cum_Return\"] = test[\"Position_Return\"].cumsum()#.apply(np.exp)*lotsize\n",
    "test[\"Cum_Max\"] = test[\"Cum_Return\"].cummax()\n",
    "test[\"DrawnDown\"] = test[\"Cum_Max\"] - test[\"Cum_Return\"]\n",
    "Max_Drawndown = test[\"DrawnDown\"].max()*lotsize\n",
    "test.index = pd.to_datetime(test.index)\n",
    "print(\"過去{}天最大損失 = USD${} ({})\".format(test.shape[0],round(Max_Drawndown),test[\"DrawnDown\"].idxmax()\\\n",
    "                                  .strftime(\"%Y-%m-%d\")))\n",
    "Result[\"Max Drawdown in {} days\".format(test.shape[0])] = round(Max_Drawndown)"
   ]
  },
  {
   "cell_type": "code",
   "execution_count": 98,
   "metadata": {},
   "outputs": [
    {
     "data": {
      "image/png": "[encoded data removed]",
      "text/plain": [
       "<Figure size 864x576 with 1 Axes>"
      ]
     },
     "metadata": {
      "needs_background": "light"
     },
     "output_type": "display_data"
    }
   ],
   "source": [
    "test.index = pd.to_datetime(test.index)\n",
    "temp = test.copy()\n",
    "temp.resample('M').mean()\n",
    "plt.figure(figsize = (12,8))\n",
    "plt.plot(test.index,test[\"DrawnDown\"])\n",
    "plt.axhline(test.loc[test[\"DrawnDown\"].idxmax(),\"DrawnDown\"], color = \"r\")\n",
    "plt.axvline(x ='2020-03-23', color = \"r\")\n",
    "plt.ylabel(\"Return Drawdown\")\n",
    "plt.title(\"Over the past {} days, the biggest loss is {} in {}\".format(test.shape[0],round(Max_Drawndown),test[\"DrawnDown\"].idxmax()\\\n",
    "                                  .strftime(\"%Y-%m-%d\")))\n",
    "plt.show()"
   ]
  },
  {
   "cell_type": "code",
   "execution_count": null,
   "metadata": {},
   "outputs": [],
   "source": []
  },
  {
   "cell_type": "code",
   "execution_count": 99,
   "metadata": {},
   "outputs": [
    {
     "data": {
      "text/plain": [
       "<AxesSubplot:xlabel='Date'>"
      ]
     },
     "execution_count": 99,
     "metadata": {},
     "output_type": "execute_result"
    },
    {
     "data": {
      "image/png": "[encoded data removed]",
      "text/plain": [
       "<Figure size 864x576 with 1 Axes>"
      ]
     },
     "metadata": {
      "needs_background": "light"
     },
     "output_type": "display_data"
    }
   ],
   "source": [
    "plt.figure(figsize = (12,8))\n",
    "test[\"Cum_Max\"].plot()"
   ]
  },
  {
   "cell_type": "markdown",
   "metadata": {},
   "source": [
    "### Cumulative Return\n",
    "累計報酬"
   ]
  },
  {
   "cell_type": "code",
   "execution_count": 100,
   "metadata": {},
   "outputs": [
    {
     "name": "stderr",
     "output_type": "stream",
     "text": [
      "No handles with labels found to put in legend.\n"
     ]
    },
    {
     "data": {
      "text/plain": [
       "<matplotlib.legend.Legend at 0x7fc91499a6d0>"
      ]
     },
     "execution_count": 100,
     "metadata": {},
     "output_type": "execute_result"
    },
    {
     "data": {
      "image/png": "[encoded data removed]",
      "text/plain": [
       "<Figure size 864x576 with 1 Axes>"
      ]
     },
     "metadata": {
      "needs_background": "light"
     },
     "output_type": "display_data"
    }
   ],
   "source": [
    "plt.figure(figsize = (12,8))\n",
    "plt.plot(test.index,test[\"Cum_Return\"])\n",
    "plt.axvline(x ='2020-03-23', color = \"r\")\n",
    "plt.legend()"
   ]
  },
  {
   "cell_type": "markdown",
   "metadata": {},
   "source": [
    "### VaR with different Confidences\n",
    "不同信心水準下的VaR"
   ]
  },
  {
   "cell_type": "code",
   "execution_count": 101,
   "metadata": {},
   "outputs": [
    {
     "data": {
      "text/html": [
       "<div>\n",
       "<style scoped>\n",
       "    .dataframe tbody tr th:only-of-type {\n",
       "        vertical-align: middle;\n",
       "    }\n",
       "\n",
       "    .dataframe tbody tr th {\n",
       "        vertical-align: top;\n",
       "    }\n",
       "\n",
       "    .dataframe thead th {\n",
       "        text-align: right;\n",
       "    }\n",
       "</style>\n",
       "<table border=\"1\" class=\"dataframe\">\n",
       "  <thead>\n",
       "    <tr style=\"text-align: right;\">\n",
       "      <th></th>\n",
       "      <th>VaR</th>\n",
       "      <th>Confidence Level%</th>\n",
       "    </tr>\n",
       "  </thead>\n",
       "  <tbody>\n",
       "    <tr>\n",
       "      <th>0</th>\n",
       "      <td>-2727.971526</td>\n",
       "      <td>99.99</td>\n",
       "    </tr>\n",
       "    <tr>\n",
       "      <th>1</th>\n",
       "      <td>-1950.042561</td>\n",
       "      <td>99.90</td>\n",
       "    </tr>\n",
       "    <tr>\n",
       "      <th>2</th>\n",
       "      <td>-899.197897</td>\n",
       "      <td>99.00</td>\n",
       "    </tr>\n",
       "    <tr>\n",
       "      <th>3</th>\n",
       "      <td>-740.154838</td>\n",
       "      <td>97.50</td>\n",
       "    </tr>\n",
       "    <tr>\n",
       "      <th>4</th>\n",
       "      <td>-640.016878</td>\n",
       "      <td>95.00</td>\n",
       "    </tr>\n",
       "    <tr>\n",
       "      <th>5</th>\n",
       "      <td>-489.644944</td>\n",
       "      <td>90.00</td>\n",
       "    </tr>\n",
       "  </tbody>\n",
       "</table>\n",
       "</div>"
      ],
      "text/plain": [
       "           VaR  Confidence Level%\n",
       "0 -2727.971526              99.99\n",
       "1 -1950.042561              99.90\n",
       "2  -899.197897              99.00\n",
       "3  -740.154838              97.50\n",
       "4  -640.016878              95.00\n",
       "5  -489.644944              90.00"
      ]
     },
     "execution_count": 101,
     "metadata": {},
     "output_type": "execute_result"
    }
   ],
   "source": [
    "percs = [0.01, 0.1, 1., 2.5, 5.0, 10.0]\n",
    "confidence = pd.Series(100 - np.array(percs))\n",
    "VaR = pd.Series(scs.scoreatpercentile(lotsize * abs(test['Return'])*test[\"Accuracy\"], percs))\n",
    "t = pd.DataFrame()\n",
    "g = pd.concat([t,VaR,confidence], axis = 1 )\n",
    "g.columns = [\"VaR\", \"Confidence Level%\"]\n",
    "Result[\"VaR with {} Confidence\".format(g[\"Confidence Level%\"].iloc[0])] = round(g[\"VaR\"].iloc[0])\n",
    "g"
   ]
  },
  {
   "cell_type": "code",
   "execution_count": 102,
   "metadata": {},
   "outputs": [
    {
     "data": {
      "text/html": [
       "<div>\n",
       "<style scoped>\n",
       "    .dataframe tbody tr th:only-of-type {\n",
       "        vertical-align: middle;\n",
       "    }\n",
       "\n",
       "    .dataframe tbody tr th {\n",
       "        vertical-align: top;\n",
       "    }\n",
       "\n",
       "    .dataframe thead th {\n",
       "        text-align: right;\n",
       "    }\n",
       "</style>\n",
       "<table border=\"1\" class=\"dataframe\">\n",
       "  <thead>\n",
       "    <tr style=\"text-align: right;\">\n",
       "      <th></th>\n",
       "      <th>Values(USD)</th>\n",
       "    </tr>\n",
       "  </thead>\n",
       "  <tbody>\n",
       "    <tr>\n",
       "      <th>Predicted Return</th>\n",
       "      <td>709</td>\n",
       "    </tr>\n",
       "    <tr>\n",
       "      <th>Expected Return</th>\n",
       "      <td>2626</td>\n",
       "    </tr>\n",
       "    <tr>\n",
       "      <th>Expected Loss</th>\n",
       "      <td>46634</td>\n",
       "    </tr>\n",
       "    <tr>\n",
       "      <th>Max Drawdown in 633 days</th>\n",
       "      <td>21696</td>\n",
       "    </tr>\n",
       "    <tr>\n",
       "      <th>VaR with 99.99 Confidence</th>\n",
       "      <td>-2728</td>\n",
       "    </tr>\n",
       "  </tbody>\n",
       "</table>\n",
       "</div>"
      ],
      "text/plain": [
       "                           Values(USD)\n",
       "Predicted Return                   709\n",
       "Expected Return                   2626\n",
       "Expected Loss                    46634\n",
       "Max Drawdown in 633 days         21696\n",
       "VaR with 99.99 Confidence        -2728"
      ]
     },
     "execution_count": 102,
     "metadata": {},
     "output_type": "execute_result"
    }
   ],
   "source": [
    "pd.DataFrame(Result, index = [0]).T.rename(columns = {0:\"Values(USD)\"})"
   ]
  },
  {
   "cell_type": "code",
   "execution_count": null,
   "metadata": {},
   "outputs": [],
   "source": []
  },
  {
   "cell_type": "code",
   "execution_count": null,
   "metadata": {},
   "outputs": [],
   "source": []
  }
 ],
 "metadata": {
  "kernelspec": {
   "display_name": "Python 3",
   "language": "python",
   "name": "python3"
  },
  "language_info": {
   "codemirror_mode": {
    "name": "ipython",
    "version": 3
   },
   "file_extension": ".py",
   "mimetype": "text/x-python",
   "name": "python",
   "nbconvert_exporter": "python",
   "pygments_lexer": "ipython3",
   "version": "3.7.9"
  }
 },
 "nbformat": 4,
 "nbformat_minor": 4
}
